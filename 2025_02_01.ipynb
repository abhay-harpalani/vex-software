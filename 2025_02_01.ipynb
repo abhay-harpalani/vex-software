{
  "nbformat": 4,
  "nbformat_minor": 0,
  "metadata": {
    "colab": {
      "provenance": []
    },
    "kernelspec": {
      "name": "python3",
      "display_name": "Python 3"
    },
    "language_info": {
      "name": "python"
    }
  },
  "cells": [
    {
      "cell_type": "markdown",
      "source": [
        "### IVR R&D Development Meeting - February 1, 2025\n",
        "Goals:\n",
        "- Set up Unity environment for ml-agents library\n",
        "    - [Getting Started](https://github.com/Unity-Technologies/ml-agents/blob/develop/docs/Getting-Started.md)\n",
        "    - [Installation](https://github.com/Unity-Technologies/ml-agents/blob/develop/docs/Installation.md)\n",
        "- Start learning about how Unity works and how to use the ml-agents library\n",
        "\n",
        "Next Meeting:\n",
        "- February 8, 2025"
      ],
      "metadata": {
        "id": "cP-9G-w45nJQ"
      }
    }
  ]
}
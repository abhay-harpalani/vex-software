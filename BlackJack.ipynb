{
 "cells": [
  {
   "cell_type": "code",
   "execution_count": 2,
   "metadata": {},
   "outputs": [],
   "source": [
    "import gym\n",
    "import numpy as np\n",
    "np.bool8 = np.bool_"
   ]
  },
  {
   "cell_type": "code",
   "execution_count": 3,
   "metadata": {},
   "outputs": [],
   "source": [
    "env = gym.make(\"Blackjack-v1\")"
   ]
  },
  {
   "cell_type": "code",
   "execution_count": 4,
   "metadata": {},
   "outputs": [
    {
     "name": "stdout",
     "output_type": "stream",
     "text": [
      "The observation space: Tuple(Discrete(32), Discrete(11), Discrete(2))\n",
      "The action space: Discrete(2)\n"
     ]
    }
   ],
   "source": [
    "obs_space = env.observation_space\n",
    "action_space = env.action_space\n",
    "print(f\"The observation space: {obs_space}\")\n",
    "print(f\"The action space: {action_space}\")"
   ]
  },
  {
   "cell_type": "code",
   "execution_count": 5,
   "metadata": {},
   "outputs": [
    {
     "name": "stdout",
     "output_type": "stream",
     "text": [
      "The initial observation is ((19, 6, False), {})\n",
      "The new observation is (19, 6, False)\n"
     ]
    }
   ],
   "source": [
    "import matplotlib.pyplot as plt\n",
    "\n",
    "obs = env.reset()\n",
    "print(f\"The initial observation is {obs}\")\n",
    "\n",
    "random_action = env.action_space.sample()\n",
    "\n",
    "new_obs, reward, done, _, _ = env.step(random_action)\n",
    "print(f\"The new observation is {new_obs}\")"
   ]
  },
  {
   "cell_type": "code",
   "execution_count": 6,
   "metadata": {},
   "outputs": [
    {
     "name": "stdout",
     "output_type": "stream",
     "text": [
      "Observation space is from [4, 1, 0] to [31, 10, 1]\n"
     ]
    }
   ],
   "source": [
    "minimum = [99, 99, 99]\n",
    "maximum = [0, 0, 0]\n",
    "\n",
    "# Get observation space\n",
    "for i in range(50_000):\n",
    "  obs = env.reset()\n",
    "  done = False\n",
    "  while not done:\n",
    "    random_action = env.action_space.sample()\n",
    "    new_obs, reward, done, _, _ = env.step(random_action)\n",
    "    for i in range(len(minimum)):\n",
    "      minimum[i] = min(minimum[i], int(new_obs[i]))\n",
    "      maximum[i] = max(maximum[i], int(new_obs[i]))\n",
    "\n",
    "print(f\"Observation space is from {minimum} to {maximum}\")"
   ]
  },
  {
   "cell_type": "code",
   "execution_count": 7,
   "metadata": {},
   "outputs": [
    {
     "data": {
      "text/plain": [
       "(32, 11, 2, 2)"
      ]
     },
     "execution_count": 7,
     "metadata": {},
     "output_type": "execute_result"
    }
   ],
   "source": [
    "n_actions = 2\n",
    "n_states = [maximum[i] + 1 for i in range(len(minimum))]\n",
    "\n",
    "Q_table = np.zeros((*n_states, n_actions))\n",
    "Q_table.shape"
   ]
  },
  {
   "cell_type": "code",
   "execution_count": 8,
   "metadata": {},
   "outputs": [],
   "source": [
    "alpha = 0.1\n",
    "gamma = 0.9\n",
    "n_episodes = 1_000_000\n",
    "\n",
    "Q_table.fill(0) # reset Q_table\n",
    "\n",
    "for i in range(n_episodes):\n",
    "  epsilon = 1 - (i / n_episodes)\n",
    "  obs, _ = env.reset()\n",
    "  state = tuple(map(int, obs))\n",
    "\n",
    "  done = False\n",
    "  while not done:\n",
    "    if np.random.random() < epsilon:\n",
    "      action = env.action_space.sample()\n",
    "    else:\n",
    "      action = np.argmax(Q_table[*state])\n",
    "    \n",
    "    obs, reward, done, _, _ = env.step(action)\n",
    "    new_state = tuple(map(int, obs))\n",
    "\n",
    "    old = Q_table[*state][action]\n",
    "    target = reward + gamma * np.max(Q_table[*new_state])\n",
    "    Q_table[*state][action] = (1-alpha)*old + alpha*target\n",
    "    \n",
    "    state = new_state"
   ]
  },
  {
   "cell_type": "code",
   "execution_count": 9,
   "metadata": {},
   "outputs": [
    {
     "data": {
      "text/plain": [
       "array([0., 0.])"
      ]
     },
     "execution_count": 9,
     "metadata": {},
     "output_type": "execute_result"
    }
   ],
   "source": [
    "Q_table[7][8][1] # checking the value of a random state"
   ]
  },
  {
   "cell_type": "code",
   "execution_count": 42,
   "metadata": {},
   "outputs": [
    {
     "name": "stdout",
     "output_type": "stream",
     "text": [
      "Player's sum: 12\n",
      "Dealer's showing card: 10\n",
      "Usable ace: 0\n",
      "Action: Hit\n",
      "\n",
      "Player's sum: 21\n",
      "Dealer's showing card: 10\n",
      "Usable ace: 0\n",
      "Action: Stay\n",
      "\n",
      "Total reward: 1.0\n"
     ]
    }
   ],
   "source": [
    "from time import sleep\n",
    "from matplotlib.pyplot import imshow\n",
    "\n",
    "total_reward = 0\n",
    "obs, _ = env.reset()\n",
    "state = tuple(map(int, obs))\n",
    "\n",
    "done = False\n",
    "\n",
    "total_reward = 0\n",
    "\n",
    "while not done:\n",
    "  action = np.argmax(Q_table[*state])\n",
    "  print(f\"Player's sum: {state[0]}\")\n",
    "  print(f\"Dealer's showing card: {state[1]}\")\n",
    "  print(f\"Usable ace: {state[2]}\")\n",
    "  print(f\"Action: {\"Hit\" if action == 1 else \"Stay\"}\\n\")\n",
    "  obs, reward, done, _, _ = env.step(action)\n",
    "  total_reward += reward\n",
    "  state = tuple(map(int, obs))\n",
    "\n",
    "print(f\"Total reward: {total_reward}\")"
   ]
  },
  {
   "cell_type": "code",
   "execution_count": null,
   "metadata": {},
   "outputs": [],
   "source": []
  }
 ],
 "metadata": {
  "kernelspec": {
   "display_name": "Python 3",
   "language": "python",
   "name": "python3"
  },
  "language_info": {
   "codemirror_mode": {
    "name": "ipython",
    "version": 3
   },
   "file_extension": ".py",
   "mimetype": "text/x-python",
   "name": "python",
   "nbconvert_exporter": "python",
   "pygments_lexer": "ipython3",
   "version": "3.12.4"
  }
 },
 "nbformat": 4,
 "nbformat_minor": 2
}

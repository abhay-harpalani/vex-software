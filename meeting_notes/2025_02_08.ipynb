{
  "nbformat": 4,
  "nbformat_minor": 0,
  "metadata": {
    "colab": {
      "provenance": []
    },
    "kernelspec": {
      "name": "python3",
      "display_name": "Python 3"
    },
    "language_info": {
      "name": "python"
    }
  },
  "cells": [
    {
      "cell_type": "markdown",
      "source": [
        "### IVR R&D Development Meeting - February 8, 2025\n",
        "\n",
        "### Goals\n",
        "- [x] Finish setting up Unity environment for ml-agents library from [installation instructions](https://github.com/Unity-Technologies/ml-agents/blob/develop/docs/Installation.md)\n",
        "    - Need Python >= 3.10.1, <=3.10.12\n",
        "    - Also clone git repo using command below:\n",
        "        - `git clone --branch release_22 https://github.com/Unity-Technologies/ml-agents.git`\n",
        "    - Download Unity and open `ml-agents/Project`\n",
        "- [x] Setup project and run pretrained models according to [getting started doc](https://github.com/Unity-Technologies/ml-agents/blob/develop/docs/Getting-Started.md).\n",
        "\n",
        "### Next Meeting: February 15, 2025"
      ],
      "metadata": {
        "id": "cP-9G-w45nJQ"
      }
    },
    {
      "metadata": {
        "id": "iQf2VJhBBNG8"
      },
      "cell_type": "markdown",
      "source": [
        "### TODO for next meeting\n",
        "- [ ] Run more example projects\n",
        "- [ ] Setup PyTorch for training new models\n",
        "- [ ] Start designing new environments to train our models on"
      ]
    }
  ]
}
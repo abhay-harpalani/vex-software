{
  "nbformat": 4,
  "nbformat_minor": 0,
  "metadata": {
    "colab": {
      "provenance": []
    },
    "kernelspec": {
      "name": "python3",
      "display_name": "Python 3"
    },
    "language_info": {
      "name": "python"
    }
  },
  "cells": [
    {
      "cell_type": "markdown",
      "source": [
        "### IVR R&D Development Meeting - February 22, 2025\n",
        "\n",
        "### Goals\n",
        "- [ ] Run more example projects\n",
        "- [ ] Start [Hummingbird course](https://learn.unity.com/course/ml-agents-hummingbirds?uv=2019.3)\n",
        "- [ ] Start designing new environments to train our models on\n",
        "\n",
        "### Next Meeting: March 1, 2025\n",
        "\n",
        "### TODO for next meeting\n",
        "- [ ] Finish Hummingbird course up to [flower.cs Feed()](https://learn.unity.com/tutorial/feed-s435?uv=2019.3&courseId=5e470160edbc2a15578b13d7&projectId=5ec82ff4edbc2a31b5a89195)"
      ],
      "metadata": {
        "id": "5pkjaeOP_5pm"
      }
    }
  ]
}
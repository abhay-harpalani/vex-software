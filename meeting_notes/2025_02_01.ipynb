{
 "nbformat": 4,
 "nbformat_minor": 0,
 "metadata": {
  "colab": {
   "provenance": []
  },
  "kernelspec": {
   "name": "python3",
   "display_name": "Python 3"
  },
  "language_info": {
   "name": "python"
  }
 },
 "cells": [
  {
   "cell_type": "markdown",
   "source": [
    "### IVR R&D Development Meeting - February 1, 2025\n",
    "\n",
    "### Goals\n",
    "- [x] Set up Unity environment for ml-agents library\n",
    "    - [Getting Started](https://github.com/Unity-Technologies/ml-agents/blob/develop/docs/Getting-Started.md)\n",
    "    - [Installation](https://github.com/Unity-Technologies/ml-agents/blob/develop/docs/Installation.md)\n",
    "- [x] Start learning about how Unity works and how to use the ml-agents library\n",
    "\n",
    "### Next Meeting: February 8, 2025"
   ],
   "metadata": {
    "id": "cP-9G-w45nJQ"
   }
  },
  {
   "metadata": {},
   "cell_type": "markdown",
   "source": [
    "### TODO for next meeting\n",
    "- [ ] Finsh setting up the Unity environment\n",
    "- [ ] Ping on discord in development channel, if any questions!"
   ]
  }
 ]
}

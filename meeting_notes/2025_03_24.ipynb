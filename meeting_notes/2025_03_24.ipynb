{
 "cells": [
  {
   "metadata": {},
   "cell_type": "markdown",
   "source": [
    "### IVR R&D Development Meeting - March 24, 2025\n",
    "\n",
    "### Goals\n",
    "- Get ready for EOH on April 4th/5th\n",
    "- [ ] Start [Hummingbird course](https://learn.unity.com/course/ml-agents-hummingbirds?uv=2019.3)\n",
    "- [ ] Start designing new environments to train our models on\n",
    "\n",
    "### Next Meeting: March 26, 2025\n"
   ],
   "id": "43361911e79bcf08"
  }
 ],
 "metadata": {
  "kernelspec": {
   "display_name": "Python 3",
   "language": "python",
   "name": "python3"
  },
  "language_info": {
   "codemirror_mode": {
    "name": "ipython",
    "version": 2
   },
   "file_extension": ".py",
   "mimetype": "text/x-python",
   "name": "python",
   "nbconvert_exporter": "python",
   "pygments_lexer": "ipython2",
   "version": "2.7.6"
  }
 },
 "nbformat": 4,
 "nbformat_minor": 5
}
